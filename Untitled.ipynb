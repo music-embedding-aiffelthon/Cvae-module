{
 "cells": [
  {
   "cell_type": "code",
   "execution_count": 1,
   "id": "4cb439ec-067a-4bc2-96cf-66291cde43a2",
   "metadata": {},
   "outputs": [
    {
     "name": "stderr",
     "output_type": "stream",
     "text": [
      "2022-09-12 13:55:27.224542: W tensorflow/stream_executor/platform/default/dso_loader.cc:64] Could not load dynamic library 'libcudart.so.11.0'; dlerror: libcudart.so.11.0: cannot open shared object file: No such file or directory; LD_LIBRARY_PATH: :/usr/local/lib\n",
      "WARNING:absl:GlobalAsyncCheckpointManager is not imported correctly. Checkpointing of GlobalDeviceArrays will not be available.To use the feature, install tensorstore.\n"
     ]
    }
   ],
   "source": [
    "import os\n",
    "from flax.training import train_state, checkpoints\n",
    "import jax\n",
    "from model.Conv2d_model import Conv2d_VAE\n",
    "from utils.config_hook import yaml_config_hook\n",
    "import jax.numpy as jnp\n",
    "import pickle"
   ]
  },
  {
   "cell_type": "code",
   "execution_count": 2,
   "id": "40dce1ce-504b-453e-8adb-91b289db067c",
   "metadata": {},
   "outputs": [],
   "source": [
    "# --- Define config ---\n",
    "config_dir = os.path.join(os.path.expanduser('~'),'module/config')     \n",
    "config = yaml_config_hook(os.path.join(config_dir, 'config.yaml'))"
   ]
  },
  {
   "cell_type": "code",
   "execution_count": 3,
   "id": "47ed01e7-54ff-4d0e-a38d-10dd28d2184b",
   "metadata": {},
   "outputs": [],
   "source": [
    "checkpoint_path = os.path.join(os.path.expanduser('~'), 'genre_encoder/checkpoint')"
   ]
  },
  {
   "cell_type": "code",
   "execution_count": 4,
   "id": "d83277bd-9fe1-4453-b512-17b0af86823a",
   "metadata": {},
   "outputs": [],
   "source": [
    "checkpoint_list = os.listdir(checkpoint_path)"
   ]
  },
  {
   "cell_type": "code",
   "execution_count": 5,
   "id": "7eff6ba8-44c5-4d2e-9be6-225fc5e762c1",
   "metadata": {},
   "outputs": [
    {
     "data": {
      "text/plain": [
       "['.ipynb_checkpoints',\n",
       " 'genre_encoder_0_512_225',\n",
       " 'genre_encoder_1_512_420',\n",
       " 'genre_encoder_2_512_600',\n",
       " 'genre_encoder_3_512_775',\n",
       " 'genre_encoder_4_512_945']"
      ]
     },
     "execution_count": 5,
     "metadata": {},
     "output_type": "execute_result"
    }
   ],
   "source": [
    "sorted(checkpoint_list)"
   ]
  },
  {
   "cell_type": "code",
   "execution_count": 6,
   "id": "efd53897-1278-4867-8c86-39599cfe4946",
   "metadata": {},
   "outputs": [],
   "source": [
    "del checkpoint_list[0]"
   ]
  },
  {
   "cell_type": "code",
   "execution_count": 7,
   "id": "a73ae366-d3ec-42b1-b5b4-ef546d39042e",
   "metadata": {},
   "outputs": [],
   "source": [
    "key = jax.random.PRNGKey(303)"
   ]
  },
  {
   "cell_type": "code",
   "execution_count": 8,
   "id": "e2ec3713-7321-49c6-b643-5ab827027f32",
   "metadata": {},
   "outputs": [],
   "source": [
    "model = Conv2d_VAE(dilation=config['dilation'],\n",
    "                           latent_size=config['latent_size'])"
   ]
  },
  {
   "cell_type": "code",
   "execution_count": 9,
   "id": "ceeb3ace-f082-4674-a38a-3160f63d4067",
   "metadata": {},
   "outputs": [],
   "source": [
    "init_params = model.init(key, jnp.ones((config['batch_size'], 48, 1876)))\n",
    "# init_params = model.init(key, jnp.ones((4, 48, 1876)))"
   ]
  },
  {
   "cell_type": "code",
   "execution_count": 10,
   "id": "edddf7cd-3742-4c4d-9f20-23de499edff4",
   "metadata": {},
   "outputs": [],
   "source": [
    "checkpoint_params = []\n",
    "for i in checkpoint_list:\n",
    "    checkpoint = checkpoints.restore_checkpoint(ckpt_dir=checkpoint_path, target=init_params)\n",
    "    checkpoint_params.append(checkpoint)"
   ]
  },
  {
   "cell_type": "code",
   "execution_count": 11,
   "id": "cbd214ec-7332-4e32-8cff-6134eb5b3665",
   "metadata": {},
   "outputs": [
    {
     "data": {
      "text/plain": [
       "5"
      ]
     },
     "execution_count": 11,
     "metadata": {},
     "output_type": "execute_result"
    }
   ],
   "source": [
    "len(checkpoint_params)"
   ]
  },
  {
   "cell_type": "code",
   "execution_count": 12,
   "id": "c12dc38e-b558-4aa3-89c0-598a7cbead9b",
   "metadata": {},
   "outputs": [],
   "source": [
    "def reconstruct_error(query, checkpoint_params):\n",
    "    for i in checkpoint_params:\n",
    "        init_params = model.init(key, jnp.ones((config['batch_size'], 48, 1876)))\n",
    "        recon_x = model.apply(i, query)\n",
    "        l1_loss = np.abs(recon_x - j)\n",
    "        loss_list.append(l1_loss)\n",
    "        loss_list = np.stack(loss_list)\n",
    "        \n",
    "    return loss_list"
   ]
  },
  {
   "cell_type": "code",
   "execution_count": 13,
   "id": "d6b09953-1f9e-49e0-ba22-934ad66477e8",
   "metadata": {},
   "outputs": [],
   "source": [
    "dataset_dir = os.path.join(os.path.expanduser('~'),config['dataset_dir'])   "
   ]
  },
  {
   "cell_type": "code",
   "execution_count": 14,
   "id": "a970215c-ea07-4f99-b8fa-e55b4e4d295f",
   "metadata": {},
   "outputs": [
    {
     "data": {
      "text/plain": [
       "'/home/anthonypark6904/dev_dataset'"
      ]
     },
     "execution_count": 14,
     "metadata": {},
     "output_type": "execute_result"
    }
   ],
   "source": [
    "dataset_dir"
   ]
  },
  {
   "cell_type": "code",
   "execution_count": 15,
   "id": "87f40d75-8fe3-42bc-8ae8-13dbec43b86e",
   "metadata": {},
   "outputs": [
    {
     "data": {
      "text/plain": [
       "'/home/anthonypark6904/genre_encoder'"
      ]
     },
     "execution_count": 15,
     "metadata": {},
     "output_type": "execute_result"
    }
   ],
   "source": [
    "pwd"
   ]
  },
  {
   "cell_type": "code",
   "execution_count": 16,
   "id": "874e8206-9a3b-4019-972e-9ef581dc0ad1",
   "metadata": {},
   "outputs": [
    {
     "name": "stdout",
     "output_type": "stream",
     "text": [
      "/home/anthonypark6904\n"
     ]
    }
   ],
   "source": [
    "cd ../"
   ]
  },
  {
   "cell_type": "code",
   "execution_count": 17,
   "id": "4e3649f3-c1b7-4a2c-9340-48d9915543a3",
   "metadata": {},
   "outputs": [],
   "source": [
    "with open('dev_dataset/arena_mel/0/9.pickle','rb') as f:\n",
    "    data = pickle.load(f)"
   ]
  },
  {
   "cell_type": "code",
   "execution_count": 18,
   "id": "3a7c656c-361b-4ffc-8f58-8e98d82ac6db",
   "metadata": {},
   "outputs": [
    {
     "data": {
      "text/plain": [
       "(48, 1876)"
      ]
     },
     "execution_count": 18,
     "metadata": {},
     "output_type": "execute_result"
    }
   ],
   "source": [
    "data.shape"
   ]
  },
  {
   "cell_type": "code",
   "execution_count": 19,
   "id": "eaffbd76-bc15-49d9-a2bd-1358893d9d44",
   "metadata": {},
   "outputs": [],
   "source": [
    "init_params = model.init(key, jnp.ones((config['batch_size'], 48, 1876)))"
   ]
  },
  {
   "cell_type": "code",
   "execution_count": 25,
   "id": "6af61c9d-2271-430f-b1cb-52b815a95997",
   "metadata": {},
   "outputs": [],
   "source": [
    "a = jnp.ones((48,1876))"
   ]
  },
  {
   "cell_type": "code",
   "execution_count": null,
   "id": "1ead6b19-c2f5-493a-9be5-b4c21d7ac655",
   "metadata": {},
   "outputs": [],
   "source": [
    "recon_x = model.apply(checkpoint_params[0], data)"
   ]
  },
  {
   "cell_type": "code",
   "execution_count": 20,
   "id": "ed4c1aaa-63f9-4ddd-91b7-fb092cf98c7c",
   "metadata": {},
   "outputs": [],
   "source": [
    "def reconstruct_error(query, checkpoint_params):\n",
    "    for i in checkpoint_params:\n",
    "        params = Conv2d_VAE().init(key, jnp.ones((16, 48, 1876)))\n",
    "        recon_x = model.apply(i, query)\n",
    "        l1_loss = np.abs(recon_x - i)\n",
    "        loss_list.append(l1_loss)\n",
    "        loss_list = np.stack(loss_list)\n",
    "        \n",
    "    return loss_list"
   ]
  }
 ],
 "metadata": {
  "kernelspec": {
   "display_name": "Python 3 (ipykernel)",
   "language": "python",
   "name": "python3"
  },
  "language_info": {
   "codemirror_mode": {
    "name": "ipython",
    "version": 3
   },
   "file_extension": ".py",
   "mimetype": "text/x-python",
   "name": "python",
   "nbconvert_exporter": "python",
   "pygments_lexer": "ipython3",
   "version": "3.8.10"
  }
 },
 "nbformat": 4,
 "nbformat_minor": 5
}
